{
 "cells": [
  {
   "cell_type": "markdown",
   "id": "016d409a",
   "metadata": {},
   "source": [
    "# **Preprocesamiento de datos**\n",
    "---\n",
    "> **Asignatura:** Minería de Datos\n",
    ">\n",
    "> **Alumna:** Claudia Luz Rojas Soto\n",
    ">\n",
    "> **Código:** 171805\n",
    "\n"
   ]
  },
  {
   "cell_type": "markdown",
   "id": "c1eb37c4",
   "metadata": {},
   "source": [
    "## **Algoritmos:**\n",
    "---"
   ]
  },
  {
   "cell_type": "markdown",
   "id": "e1e595eb",
   "metadata": {},
   "source": [
    "### 1. Distancia de Minkowski (Dist. Euclidiana - Dist. Manhattan)\n",
    "--- "
   ]
  },
  {
   "cell_type": "code",
   "execution_count": 1,
   "id": "36aa0291",
   "metadata": {},
   "outputs": [],
   "source": [
    "import numpy as np\n",
    "def minkowski(p,x,y):\n",
    "    \"\"\"Esta función calcula la distancia de Minkowski de dos arreglos.\n",
    "\n",
    "    Args:\n",
    "        p (int): Un nḿero entero (potencia).\n",
    "        x ,y (array): Arreglos de donde se obtiene distancia\n",
    "\n",
    "    Returns:\n",
    "        float: Valor de la distancia de minkowski.\n",
    "    \"\"\"\n",
    "    suma = 0\n",
    "    for i in range(len(x)):\n",
    "        if (len(x) == len(y)):\n",
    "            DistPotencia = np.power(np.abs(x[i]-y[i]),p)\n",
    "            suma = suma + DistPotencia\n",
    "    return np.power(suma,1/float(p))"
   ]
  },
  {
   "cell_type": "code",
   "execution_count": 2,
   "id": "93d91a16",
   "metadata": {},
   "outputs": [
    {
     "name": "stderr",
     "output_type": "stream",
     "text": [
      "\r",
      "[Stage 0:>                                                          (0 + 4) / 4]\r"
     ]
    },
    {
     "name": "stdout",
     "output_type": "stream",
     "text": [
      "Distancias de Manhattan: [24.0, 4.0]\n",
      "Distancias euclidianas: [12.806248474865697, 2.0]\n"
     ]
    },
    {
     "name": "stderr",
     "output_type": "stream",
     "text": [
      "\r",
      "[Stage 0:==============>                                            (1 + 3) / 4]\r",
      "\r",
      "                                                                                \r"
     ]
    }
   ],
   "source": [
    "# RDD a partir de una arreglo de arreglos\n",
    "arreglos = sc.parallelize([[[1 ,2 ,3 ,4], [10, 9, 8, 7]],[[3, 4, 5, 6], [4, 5, 6, 7]]])\n",
    "\n",
    "# Distancia de Manhattan\n",
    "Manhattan = arreglos.map(lambda x: minkowski(1, x[0], x[1]))\n",
    "# Mostrar la distancia de Manhattan obtenida\n",
    "print('Distancias de Manhattan:',Manhattan.collect())\n",
    "\n",
    "# Distancia Euclidiana \n",
    "Euclidiana = arreglos.map(lambda x: minkowski(2, x[0], x[1]))\n",
    "# Mostrar la distancia Euclidiana obtenida\n",
    "print('Distancias euclidianas:',Euclidiana.collect())\n"
   ]
  },
  {
   "cell_type": "markdown",
   "id": "f804e2f6",
   "metadata": {},
   "source": [
    "### 2. Similitud de Cosenos\n",
    "--- "
   ]
  },
  {
   "cell_type": "code",
   "execution_count": 3,
   "id": "cfb57c9a",
   "metadata": {},
   "outputs": [],
   "source": [
    "def sim_cosenos(x,y):\n",
    "    \"\"\"Calcula la distancia de cosenos\n",
    "\n",
    "    Args:\n",
    "        x, y (num array): Listas de valores de las cuales se calculara similitud\n",
    "\n",
    "    Returns:\n",
    "        double: Un número de tipo double equivalente a la distancia de cosenoS de x e y\n",
    "    \"\"\"\n",
    "    # Lista de tuplas con la forma (x,y)\n",
    "    tuples = x.zip(y)\n",
    "    # Obtenemos la norma de x y y de los pares, y luego sumamos(producto punto)\n",
    "    normx = tuples.map(lambda x: x[0]*x[0]).sum()\n",
    "    normy = tuples.map(lambda x: x[1]*x[1]).sum()\n",
    "    # Obtenemos el producto de x y y de los pares, y luego sumamos(producto punto)\n",
    "    producto = tuples.map(lambda x: x[0]*x[1]).sum()\n",
    "    # Obtenemos el resultado, dada la fórmula de similitud de cosenos\n",
    "    similitud = producto/(normx*normy)\n",
    "    # Devolvemos el valor de la similitud\n",
    "    return similitud"
   ]
  },
  {
   "cell_type": "code",
   "execution_count": 4,
   "id": "8377cabb",
   "metadata": {},
   "outputs": [],
   "source": [
    "# Declaramos dos arreglos de la misma dimensión\n",
    "x = [25,10,56,120,23,5,3,2,32,21,132,123,231,12,54,2]\n",
    "y = [15,12,56,8,6,9,2,3,3,3,21,132,123,12,54,55]\n",
    "# Volvemos estos arreglos RDDs\n",
    "x = sc.parallelize(x,2)\n",
    "y = sc.parallelize(y,2)"
   ]
  },
  {
   "cell_type": "code",
   "execution_count": 5,
   "id": "97d23f93",
   "metadata": {},
   "outputs": [
    {
     "name": "stdout",
     "output_type": "stream",
     "text": [
      "1.187589912259901e-05\n"
     ]
    }
   ],
   "source": [
    "print(sim_cosenos(x,y))"
   ]
  },
  {
   "cell_type": "markdown",
   "id": "53f3c64c",
   "metadata": {},
   "source": [
    "### 3. Distancia de Jaccard\n",
    "--- "
   ]
  },
  {
   "cell_type": "code",
   "execution_count": 6,
   "id": "3154ec29",
   "metadata": {},
   "outputs": [],
   "source": [
    "def Jaccard(x,y): \n",
    "    \"\"\"Calcula la distancia de Jaccarda entre dos vectores binarios.\n",
    "\n",
    "    Args:\n",
    "        x, y (np.array): Arreglo de enteros binarios x y y.\n",
    "\n",
    "    Returns:\n",
    "        J (int): Distancia de Jaccard entre x y y\n",
    "    \"\"\"\n",
    "    return (x==y).sum()/float( np.maximum(x,y).sum() )"
   ]
  },
  {
   "cell_type": "code",
   "execution_count": 7,
   "id": "0417f079",
   "metadata": {},
   "outputs": [],
   "source": [
    "# RDD de textos tokenizados para prueba\n",
    "tokenizado = sc.parallelize(enumerate([['cusco', 'lima', 'cusco','perú'],\n",
    "                             ['destino', 'viaje', 'cusco','lima']]))"
   ]
  },
  {
   "cell_type": "code",
   "execution_count": 8,
   "id": "e1176a53",
   "metadata": {},
   "outputs": [
    {
     "name": "stdout",
     "output_type": "stream",
     "text": [
      "{'lima': 2, 'perú': 1, 'destino': 1, 'cusco': 3, 'viaje': 1} 5\n"
     ]
    }
   ],
   "source": [
    "palabras_rep = (tokenizado\n",
    "             .flatMap(lambda y: y[1])\n",
    "             .map(lambda x: (x,1))\n",
    "             .reduceByKey(lambda x,y: x + y)\n",
    "             )\n",
    "frecuencia = dict((k,v) for k,v in palabras_rep.collect())\n",
    "n_palabras= len(frecuencia)\n",
    "print (frecuencia, n_palabras)"
   ]
  },
  {
   "cell_type": "code",
   "execution_count": 9,
   "id": "3d868602",
   "metadata": {},
   "outputs": [],
   "source": [
    "def Binarizacion(atributos,palabras):  \n",
    "    \"\"\"Binarizacion de vectores usando un diccionario de claves.\n",
    "\n",
    "    Args:\n",
    "        atributos (list): Lista de atributos de un objeto dado.\n",
    "        palabras (dict): Diccionario de la forma atributo -> index\n",
    "\n",
    "    Returns:\n",
    "        array (np.array): Arreglo binario de atributos.\n",
    "    \"\"\"\n",
    "    \n",
    "    array = np.zeros(len(palabras))\n",
    "    for atr in atributos:\n",
    "        array[ list(palabras.keys()).index(atr) ] = 1\n",
    "    return array"
   ]
  },
  {
   "cell_type": "code",
   "execution_count": 10,
   "id": "4c96aa83",
   "metadata": {},
   "outputs": [
    {
     "data": {
      "text/plain": [
       "[(0, array([1., 1., 0., 1., 0.])), (1, array([1., 0., 1., 1., 1.]))]"
      ]
     },
     "execution_count": 10,
     "metadata": {},
     "output_type": "execute_result"
    }
   ],
   "source": [
    "binarizado = tokenizado.map(lambda x: (x[0],Binarizacion(x[1], frecuencia)))\n",
    "binarizado.collect()"
   ]
  },
  {
   "cell_type": "code",
   "execution_count": 11,
   "id": "6685bc0e",
   "metadata": {},
   "outputs": [
    {
     "name": "stdout",
     "output_type": "stream",
     "text": [
      "Jaccard:\n",
      "min:0.40\tmax:1.67\tmedia:0.93\n"
     ]
    }
   ],
   "source": [
    "# Realizamos el producto cartesiano de los arreglos\n",
    "prodCart = binarizado.cartesian(binarizado)\n",
    "\n",
    "# Mapeamos para transformar el RDD en un RDD de tuplas ((id1,id2), (vector1,vector2))\n",
    "BinPares = prodCart.map(lambda x: ((x[0][0],x[1][0]),(x[0][1],x[1][1])))\n",
    "\n",
    "# Mapeamos el RDD de tuplas para calcular la distancia de Jaccard entre los pares\n",
    "jaccard = BinPares.map(lambda x: Jaccard(x[1][0],x[1][1]))\n",
    "\n",
    "# Encontramos la distancia máxima, mínima y media de los valores del RDD.\n",
    "Jmin, Jmax, Jmean = jaccard.min(), jaccard.max(), jaccard.mean()\n",
    "\n",
    "# Mostramos los resultados\n",
    "print (\"Jaccard:\\nmin:{:.2f}\\tmax:{:.2f}\\tmedia:{:.2f}\".format(Jmin, Jmax, Jmean ))"
   ]
  },
  {
   "cell_type": "markdown",
   "id": "69deeb46",
   "metadata": {},
   "source": [
    "### 4. Estandarización\n",
    "---"
   ]
  },
  {
   "cell_type": "code",
   "execution_count": 12,
   "id": "d1eb724e",
   "metadata": {},
   "outputs": [],
   "source": [
    "def estandarizar(value,media,des):\n",
    "    \"\"\"Estandariza el valor de un número dentro de un arreglo.\n",
    "\n",
    "    Args:\n",
    "        value (int): Valor a escalar.\n",
    "        media (float):  Media aritmética de los valores del arreglo donde esta el value.\n",
    "        des (float): Desviación estándar del arreglo donde esta el value.\n",
    "\n",
    "    Returns:\n",
    "        float: Valor estandarizado.\n",
    "    \"\"\"\n",
    "    return round(((value - media)/des),3)"
   ]
  },
  {
   "cell_type": "code",
   "execution_count": 13,
   "id": "fcae3811",
   "metadata": {},
   "outputs": [
    {
     "name": "stdout",
     "output_type": "stream",
     "text": [
      "[-0.656833112811402, 0.5651819807912064, -1.6344451876934887, -1.5122436783332278, -1.390042168972967, -1.267840659612706, -1.267840659612706, -1.7566466970537495, -1.6344451876934887, -1.5122436783332278, -1.267840659612706, -1.0234376408921844, -0.9012361315319236, -0.5346316034511411, 2.276003111834858, -1.5122436783332278]\n"
     ]
    }
   ],
   "source": [
    "# Creamos un arreglo de valores que estandarizaremos\n",
    "stand = [10,20,2,3,4,5,5,1,2,3,5,7,8,11,34,3]\n",
    "# Volvemos este arreglo en un RDD, con 4 particiones\n",
    "standRDD = sc.parallelize(stand,4)\n",
    "# Obtenemos la media del arreglo\n",
    "mean = standRDD.mean()\n",
    "# Obtenemos la varianza del arreglo\n",
    "var = standRDD.map(lambda x: (x - mean)**2).mean()\n",
    "# Obtenemos la desviación estándar del arreglo\n",
    "dsv = var ** 0.5\n",
    "# Escalamos los valores del arreglo llamando a la función \"escalar\"\n",
    "stand_ = standRDD.map(lambda x: (x-mean - mean)/dsv)\n",
    "# Mostramos el arreglo con un escalonamiento de sus valores\n",
    "print(stand_.collect())"
   ]
  },
  {
   "cell_type": "markdown",
   "id": "abb375b0",
   "metadata": {},
   "source": [
    "### 5. Escalonamiento\n",
    "---"
   ]
  },
  {
   "cell_type": "code",
   "execution_count": 14,
   "id": "0704549a",
   "metadata": {},
   "outputs": [],
   "source": [
    "def escalar(value,minimo,maximo):\n",
    "    \"\"\"Escala el valor de un número dentro de un arreglo.\n",
    "\n",
    "    Args:\n",
    "        value (int): Valor a escalar.\n",
    "        minimo (float): Mínimo valor del arreglo donde esta el value.\n",
    "        maximo (float): Máximo valor del arreglo donde esta el value.\n",
    "\n",
    "    Returns:\n",
    "        float: Valor escalonado.\n",
    "    \"\"\"\n",
    "    return round((value - minimo) / (maximo-minimo),3)"
   ]
  },
  {
   "cell_type": "code",
   "execution_count": 15,
   "id": "1186d1fa",
   "metadata": {},
   "outputs": [
    {
     "name": "stdout",
     "output_type": "stream",
     "text": [
      "[0.474, 1.0, 0.053, 0.105, 0.158, 0.211, 0.211, 0.0, 0.053, 0.105, 0.211, 0.316, 0.368, 0.526]\n"
     ]
    }
   ],
   "source": [
    "# Creamos un arreglo de valores que escalonaremos\n",
    "scaleBs = [10,20,2,3,4,5,5,1,2,3,5,7,8,11]\n",
    "# Volvemos este arreglo en un RDD, con 7 particiones\n",
    "scaleRDD = sc.parallelize(scaleBs,7)\n",
    "# Recogemos el valor mínimo y máximo del arreglo\n",
    "min_,max_= scaleRDD.min(),scaleRDD.max()\n",
    "# Escalamos los valores del arreglo llamando a la función \"escalar\"\n",
    "scale = scaleRDD.map(lambda x: escalar(x,min_,max_))\n",
    "# Mostramos el arreglo con un escalonamiento de sus valores\n",
    "print(scale.collect())"
   ]
  },
  {
   "cell_type": "markdown",
   "id": "371a4595",
   "metadata": {},
   "source": [
    "### 6. Normalización\n",
    "---"
   ]
  },
  {
   "cell_type": "code",
   "execution_count": 16,
   "id": "298e166e",
   "metadata": {},
   "outputs": [],
   "source": [
    "def normalizar(value,normal):\n",
    "    \"\"\"Normaliza el valor de un número dentro de un arreglo.\n",
    "\n",
    "    Args:\n",
    "        value (int): Valor a normalizar.\n",
    "        normal (float): Normal del arreglo donde esta el value.\n",
    "\n",
    "    Returns:\n",
    "        float: Valor normalizado.\n",
    "    \"\"\"\n",
    "    return round(value/normal,3)"
   ]
  },
  {
   "cell_type": "code",
   "execution_count": 17,
   "id": "d0483931",
   "metadata": {},
   "outputs": [
    {
     "name": "stdout",
     "output_type": "stream",
     "text": [
      "[0.009, 0.006, 0.012, 0.37, 0.071, 0.015, 0.009, 0.006, 0.099, 0.065, 0.407, 0.379, 0.711, 0.037, 0.166]\n"
     ]
    }
   ],
   "source": [
    "# Creamos un arreglo de valores de normalizaremos\n",
    "normTest = [3,2,4,120,23,5,3,2,32,21,132,123,231,12,54]\n",
    "# Volvemos este arreglo en un RDD con 3 particiones\n",
    "normRDD = sc.parallelize(normTest,3)\n",
    "# Obtenemos la norma del vector\n",
    "nx = (normRDD.map(lambda x: x**2).sum())**0.5\n",
    "# Normalizamos los valores de arreglo usando map\n",
    "normal = normRDD.map(lambda x: normalizar(x,nx))\n",
    "# Mostramos el arreglo con una normalización de sus valores\n",
    "print(normal.collect())"
   ]
  },
  {
   "cell_type": "markdown",
   "id": "f1537f72",
   "metadata": {},
   "source": [
    "### 7. Binarizado\n",
    "---"
   ]
  },
  {
   "cell_type": "code",
   "execution_count": 18,
   "id": "52e49db6",
   "metadata": {},
   "outputs": [],
   "source": [
    "def Binarizado(lista):\n",
    "    \"\"\"Binariza los elementos de una lista de strings\n",
    "    Args: \n",
    "        lista : arreglo de strings\n",
    "    Returns: \n",
    "        [(string,1)]: vector de tuplas\n",
    "    \"\"\"\n",
    "    return list(map(lambda x:(x,1),lista))"
   ]
  },
  {
   "cell_type": "code",
   "execution_count": 19,
   "id": "a7b1ee83",
   "metadata": {},
   "outputs": [],
   "source": [
    "tokenizado = sc.parallelize([['cusco', 'lima', 'cusco','perú'],\n",
    "                             ['destino', 'viaje', 'cusco','lima']])\n",
    "#Aplicamos la binarización a los arreglos de strings\n",
    "binario = tokenizado.map(lambda x: Binarizado(x))\n"
   ]
  },
  {
   "cell_type": "code",
   "execution_count": 20,
   "id": "9b8b2253",
   "metadata": {},
   "outputs": [
    {
     "data": {
      "text/plain": [
       "[[('cusco', 1), ('lima', 1), ('cusco', 1), ('perú', 1)],\n",
       " [('destino', 1), ('viaje', 1), ('cusco', 1), ('lima', 1)]]"
      ]
     },
     "execution_count": 20,
     "metadata": {},
     "output_type": "execute_result"
    }
   ],
   "source": [
    "binario.collect()"
   ]
  }
 ],
 "metadata": {
  "kernelspec": {
   "display_name": "Python 3 (ipykernel)",
   "language": "python",
   "name": "python3"
  },
  "language_info": {
   "codemirror_mode": {
    "name": "ipython",
    "version": 3
   },
   "file_extension": ".py",
   "mimetype": "text/x-python",
   "name": "python",
   "nbconvert_exporter": "python",
   "pygments_lexer": "ipython3",
   "version": "3.8.10"
  }
 },
 "nbformat": 4,
 "nbformat_minor": 5
}
