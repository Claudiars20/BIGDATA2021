{
 "cells": [
  {
   "cell_type": "markdown",
   "id": "7a28118e",
   "metadata": {},
   "source": [
    "## Cree una función mediaDivN d n que devuelva la media de los n primeros números que devuelven True a la función  divisibleN x d."
   ]
  },
  {
   "cell_type": "markdown",
   "id": "f94bde99",
   "metadata": {},
   "source": [
    "ALUMNA : Claudia Luz Rojas Soto\n",
    "\n",
    "CURSO : Minería de Datos"
   ]
  },
  {
   "cell_type": "code",
   "execution_count": 1,
   "id": "7d393844",
   "metadata": {},
   "outputs": [],
   "source": [
    "mcmGeneral:: [Int] -> Int\n",
    "mcmGeneral [] = 0\n",
    "mcmGeneral [x] = x\n",
    "mcmGeneral [x,y] = lcm x y\n",
    "mcmGeneral (x:ys) = lcm x (mcmGeneral ys)"
   ]
  },
  {
   "cell_type": "code",
   "execution_count": 2,
   "id": "733ab179",
   "metadata": {},
   "outputs": [],
   "source": [
    "mediaDivN :: Int -> Int -> Double\n",
    "mediaDivN d n = media \n",
    "    where\n",
    "        media = fromIntegral(mcmGeneral[1..d]) * fromIntegral(n+1) / 2"
   ]
  },
  {
   "cell_type": "code",
   "execution_count": 3,
   "id": "ef5739de",
   "metadata": {},
   "outputs": [
    {
     "data": {
      "text/plain": [
       "5.0"
      ]
     },
     "metadata": {},
     "output_type": "display_data"
    }
   ],
   "source": [
    "mediaDivN 2 4"
   ]
  }
 ],
 "metadata": {
  "kernelspec": {
   "display_name": "Haskell",
   "language": "haskell",
   "name": "haskell"
  },
  "language_info": {
   "codemirror_mode": "ihaskell",
   "file_extension": ".hs",
   "mimetype": "text/x-haskell",
   "name": "haskell",
   "pygments_lexer": "Haskell",
   "version": "8.10.7"
  }
 },
 "nbformat": 4,
 "nbformat_minor": 5
}
