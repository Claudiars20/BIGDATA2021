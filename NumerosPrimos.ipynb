{
 "cells": [
  {
   "cell_type": "markdown",
   "id": "2c2b465a",
   "metadata": {},
   "source": [
    "# Números Primos"
   ]
  },
  {
   "cell_type": "markdown",
   "id": "b83d6e45",
   "metadata": {},
   "source": [
    "ALUMNA: CLAUDIA LUZ ROJAS SOTO\n",
    "\n",
    "CURSO: MINERIA DE DATOS"
   ]
  },
  {
   "cell_type": "markdown",
   "id": "a5a08754",
   "metadata": {},
   "source": [
    "### Crear un programa en haskell que genere una lista de números primos siguiendo el siguiente algoritmo: el elemento n+1 de la lista es primo, si y solo si no es divisible por ninguno del los n elementos anteriores de la lista, caso base la lista del primer elemento con el numero 2."
   ]
  },
  {
   "cell_type": "code",
   "execution_count": 1,
   "id": "321d555b",
   "metadata": {},
   "outputs": [],
   "source": [
    "divisible:: Int -> [Int] -> Bool\n",
    "divisible x [y] = x `rem` y /= 0\n",
    "divisible x (y:yS) = x `rem` y /= 0 && divisible x yS"
   ]
  },
  {
   "cell_type": "code",
   "execution_count": 2,
   "id": "1f9698e4",
   "metadata": {},
   "outputs": [
    {
     "data": {
      "text/plain": [
       "False"
      ]
     },
     "metadata": {},
     "output_type": "display_data"
    }
   ],
   "source": [
    "divisible 2 [1,2,3]"
   ]
  },
  {
   "cell_type": "code",
   "execution_count": 3,
   "id": "1dc306e3",
   "metadata": {},
   "outputs": [],
   "source": [
    "nprimos :: Int -> [Int]\n",
    "nprimos 1 = [2]\n",
    "nprimos n = nprimos(n-1) ++ take 1[i|i <-[last(nprimos 1) + 1 ..], divisible i (nprimos(n-1))]\n"
   ]
  },
  {
   "cell_type": "code",
   "execution_count": 4,
   "id": "b31189c7",
   "metadata": {},
   "outputs": [
    {
     "data": {
      "text/plain": [
       "[2,3,5,7,11,13,17,19,23,29]"
      ]
     },
     "metadata": {},
     "output_type": "display_data"
    }
   ],
   "source": [
    "nprimos 10"
   ]
  },
  {
   "cell_type": "code",
   "execution_count": 5,
   "id": "f1f8ebf1",
   "metadata": {},
   "outputs": [
    {
     "data": {
      "text/plain": [
       "[2,3,5,7]"
      ]
     },
     "metadata": {},
     "output_type": "display_data"
    }
   ],
   "source": [
    "nprimos 4"
   ]
  },
  {
   "cell_type": "code",
   "execution_count": 6,
   "id": "a4afbc6a",
   "metadata": {},
   "outputs": [
    {
     "data": {
      "text/plain": [
       "[2,3,5,7,11,13,17,19,23,29,31]"
      ]
     },
     "metadata": {},
     "output_type": "display_data"
    }
   ],
   "source": [
    "nprimos 11"
   ]
  },
  {
   "cell_type": "markdown",
   "id": "0751c36c",
   "metadata": {},
   "source": [
    "### Con la criba de Eratóstenes:\n"
   ]
  },
  {
   "cell_type": "code",
   "execution_count": 7,
   "id": "427def0d",
   "metadata": {},
   "outputs": [],
   "source": [
    "primos :: Int -> [Int]\n",
    "primos n = take n (criba [2..]) \n",
    "criba :: [Int] -> [Int]\n",
    "criba (p:xs) = p : criba [x | x <- xs, x `mod` p /= 0]"
   ]
  },
  {
   "cell_type": "code",
   "execution_count": 8,
   "id": "350a23cd",
   "metadata": {},
   "outputs": [
    {
     "data": {
      "text/plain": [
       "[2,3,5,7]"
      ]
     },
     "metadata": {},
     "output_type": "display_data"
    }
   ],
   "source": [
    "primos 4"
   ]
  },
  {
   "cell_type": "code",
   "execution_count": 9,
   "id": "827d4dc1",
   "metadata": {},
   "outputs": [
    {
     "data": {
      "text/plain": [
       "[2,3,5,7,11,13,17,19,23,29,31,37,41,43,47,53,59,61,67,71]"
      ]
     },
     "metadata": {},
     "output_type": "display_data"
    }
   ],
   "source": [
    "primos 20"
   ]
  }
 ],
 "metadata": {
  "kernelspec": {
   "display_name": "Haskell",
   "language": "haskell",
   "name": "haskell"
  },
  "language_info": {
   "codemirror_mode": "ihaskell",
   "file_extension": ".hs",
   "mimetype": "text/x-haskell",
   "name": "haskell",
   "pygments_lexer": "Haskell",
   "version": "8.10.7"
  }
 },
 "nbformat": 4,
 "nbformat_minor": 5
}
